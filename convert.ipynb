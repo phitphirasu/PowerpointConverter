{
 "cells": [
  {
   "cell_type": "markdown",
   "metadata": {},
   "source": [
    "default program"
   ]
  },
  {
   "cell_type": "code",
   "execution_count": 2,
   "metadata": {},
   "outputs": [
    {
     "name": "stdout",
     "output_type": "stream",
     "text": [
      "Conversion completed!\n"
     ]
    }
   ],
   "source": [
    "import os\n",
    "import comtypes.client\n",
    "\n",
    "def convert_pptx_to_images(pptx_path, output_dir):\n",
    "    # Initialize PowerPoint application\n",
    "    powerpoint = comtypes.client.CreateObject(\"PowerPoint.Application\")\n",
    "    powerpoint.Visible = 1\n",
    "\n",
    "    # Open the PowerPoint presentation\n",
    "    presentation = powerpoint.Presentations.Open(pptx_path)\n",
    "\n",
    "    # Ensure output directory exists\n",
    "    if not os.path.exists(output_dir):\n",
    "        os.makedirs(output_dir)\n",
    "\n",
    "    # Iterate through each slide in the presentation\n",
    "    for i, slide in enumerate(presentation.Slides):\n",
    "        # Save each slide as a PNG image\n",
    "        output_path = os.path.join(output_dir, f\"Slide_{i + 1}.png\")\n",
    "        # Convert to absolute path to avoid issues\n",
    "        output_path = os.path.abspath(output_path)\n",
    "        slide.Export(output_path, \"PNG\")\n",
    "\n",
    "    # Close the presentation\n",
    "    presentation.Close()\n",
    "\n",
    "    # Quit the PowerPoint application\n",
    "    powerpoint.Quit()\n",
    "\n",
    "    print(\"Conversion completed!\")\n",
    "\n",
    "# Specify the path to the PowerPoint file\n",
    "pptx_path = os.path.abspath(\"PP.pptx\")\n",
    "\n",
    "# Check if the file exists\n",
    "if not os.path.exists(pptx_path):\n",
    "    raise FileNotFoundError(f\"The file '{pptx_path}' does not exist.\")\n",
    "\n",
    "# Specify the output directory\n",
    "output_dir = os.path.abspath(\"Output\")\n",
    "\n",
    "# Convert the PowerPoint presentation to images\n",
    "convert_pptx_to_images(pptx_path, output_dir)\n"
   ]
  },
  {
   "cell_type": "markdown",
   "metadata": {},
   "source": [
    "Apply with Streamlit"
   ]
  },
  {
   "cell_type": "code",
   "execution_count": 3,
   "metadata": {},
   "outputs": [
    {
     "name": "stderr",
     "output_type": "stream",
     "text": [
      "2024-06-28 10:42:45.940 \n",
      "  \u001b[33m\u001b[1mWarning:\u001b[0m to view this Streamlit app on a browser, run it with the following\n",
      "  command:\n",
      "\n",
      "    streamlit run C:\\Users\\tanpicharearn\\AppData\\Roaming\\Python\\Python310\\site-packages\\ipykernel_launcher.py [ARGUMENTS]\n"
     ]
    }
   ],
   "source": [
    "import os\n",
    "import comtypes.client\n",
    "import streamlit as st\n",
    "from PIL import Image\n",
    "\n",
    "def convert_pptx_to_images(pptx_path, output_dir):\n",
    "    # Initialize PowerPoint application\n",
    "    powerpoint = comtypes.client.CreateObject(\"PowerPoint.Application\")\n",
    "    powerpoint.Visible = 1\n",
    "\n",
    "    # Open the PowerPoint presentation\n",
    "    presentation = powerpoint.Presentations.Open(pptx_path)\n",
    "\n",
    "    # Ensure output directory exists\n",
    "    if not os.path.exists(output_dir):\n",
    "        os.makedirs(output_dir)\n",
    "\n",
    "    # Iterate through each slide in the presentation\n",
    "    image_paths = []\n",
    "    for i, slide in enumerate(presentation.Slides):\n",
    "        # Save each slide as a PNG image\n",
    "        output_path = os.path.join(output_dir, f\"Slide_{i + 1}.png\")\n",
    "        # Convert to absolute path to avoid issues\n",
    "        output_path = os.path.abspath(output_path)\n",
    "        slide.Export(output_path, \"PNG\")\n",
    "        image_paths.append(output_path)\n",
    "\n",
    "    # Close the presentation\n",
    "    presentation.Close()\n",
    "\n",
    "    # Quit the PowerPoint application\n",
    "    powerpoint.Quit()\n",
    "\n",
    "    return image_paths\n",
    "\n",
    "# Streamlit app\n",
    "st.title(\"PowerPoint to Image Converter\")\n",
    "\n",
    "uploaded_file = st.file_uploader(\"Upload a PowerPoint file\", type=[\"pptx\"])\n",
    "\n",
    "if uploaded_file is not None:\n",
    "    # Save the uploaded file temporarily\n",
    "    temp_pptx_path = os.path.join(\"temp\", uploaded_file.name)\n",
    "    with open(temp_pptx_path, \"wb\") as f:\n",
    "        f.write(uploaded_file.getbuffer())\n",
    "\n",
    "    # Specify the output directory\n",
    "    output_dir = os.path.abspath(\"Output\")\n",
    "\n",
    "    # Convert the PowerPoint presentation to images\n",
    "    image_paths = convert_pptx_to_images(temp_pptx_path, output_dir)\n",
    "\n",
    "    # Display the images\n",
    "    st.header(\"Converted Slides\")\n",
    "    for image_path in image_paths:\n",
    "        st.image(Image.open(image_path))\n",
    "\n",
    "    # Remove the temporary PowerPoint file\n",
    "    os.remove(temp_pptx_path)\n",
    "\n",
    "# Run Streamlit app\n",
    "if __name__ == \"__main__\":\n",
    "    st.set_page_config(layout=\"wide\")\n",
    "    st.write(\"\"\"\n",
    "        # PowerPoint to Image Converter\n",
    "        Upload your PowerPoint file and get each slide as an image.\n",
    "    \"\"\")\n",
    "    st.write(\"\"\"\n",
    "        ## Instructions\n",
    "        - Click the **Browse files** button to upload a `.pptx` file.\n",
    "        - Wait for the file to be processed and the images to be displayed.\n",
    "    \"\"\")\n"
   ]
  }
 ],
 "metadata": {
  "kernelspec": {
   "display_name": "Python 3",
   "language": "python",
   "name": "python3"
  },
  "language_info": {
   "codemirror_mode": {
    "name": "ipython",
    "version": 3
   },
   "file_extension": ".py",
   "mimetype": "text/x-python",
   "name": "python",
   "nbconvert_exporter": "python",
   "pygments_lexer": "ipython3",
   "version": "3.10.7"
  }
 },
 "nbformat": 4,
 "nbformat_minor": 2
}
